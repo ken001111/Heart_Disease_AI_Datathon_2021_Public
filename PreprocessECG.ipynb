{
  "nbformat": 4,
  "nbformat_minor": 0,
  "metadata": {
    "kernelspec": {
      "display_name": "Python 3",
      "language": "python",
      "name": "python3"
    },
    "language_info": {
      "codemirror_mode": {
        "name": "ipython",
        "version": 3
      },
      "file_extension": ".py",
      "mimetype": "text/x-python",
      "name": "python",
      "nbconvert_exporter": "python",
      "pygments_lexer": "ipython3",
      "version": "3.6.7"
    },
    "colab": {
      "name": "PreprocessECG.ipynb",
      "provenance": [],
      "include_colab_link": true
    }
  },
  "cells": [
    {
      "cell_type": "markdown",
      "metadata": {
        "id": "view-in-github",
        "colab_type": "text"
      },
      "source": [
        "<a href=\"https://colab.research.google.com/github/mostly-sunny/ECGClassifier/blob/master/PreprocessECG.ipynb\" target=\"_parent\"><img src=\"https://colab.research.google.com/assets/colab-badge.svg\" alt=\"Open In Colab\"/></a>"
      ]
    },
    {
      "cell_type": "markdown",
      "metadata": {
        "id": "j-DL4i295xiw"
      },
      "source": [
        "# Preprocessing for ECG Classification\n",
        "\n",
        "> Copyright 2019 Dave Fernandes. All Rights Reserved.\n",
        "> \n",
        "> Licensed under the Apache License, Version 2.0 (the \"License\");\n",
        "> you may not use this file except in compliance with the License.\n",
        "> You may obtain a copy of the License at\n",
        ">\n",
        "> http://www.apache.org/licenses/LICENSE-2.0\n",
        ">  \n",
        "> Unless required by applicable law or agreed to in writing, software\n",
        "> distributed under the License is distributed on an \"AS IS\" BASIS,\n",
        "> WITHOUT WARRANTIES OR CONDITIONS OF ANY KIND, either express or implied.\n",
        "> See the License for the specific language governing permissions and\n",
        "> limitations under the License."
      ]
    },
    {
      "cell_type": "markdown",
      "metadata": {
        "id": "yLQqRcQW5xiz"
      },
      "source": [
        "Data can be downloaded from: https://www.kaggle.com/shayanfazeli/heartbeat\n",
        "\n",
        "- Randomly sample 100 of each class of time-series for the test set. This is just over 10% of the samples in the smallest class.\n",
        "- Remaining data is balanced for the training set by upsampling under-represented classes."
      ]
    },
    {
      "cell_type": "code",
      "metadata": {
        "id": "xHAje2P-6xII"
      },
      "source": [
        ""
      ],
      "execution_count": 2,
      "outputs": []
    },
    {
      "cell_type": "code",
      "metadata": {
        "id": "5Zmyn4YA5xi0"
      },
      "source": [
        "import numpy as np\n",
        "import pandas as pd\n",
        "import pickle\n",
        "\n",
        "CSV_1 = '/content/mitbih_train.csv'\n",
        "CSV_2 = '/content/mitbih_test.csv'\n",
        "\n",
        "TRAIN_SET = '/content/train_set.pickle'\n",
        "TEST_SET = '/content/test_set.pickle'\n",
        "\n",
        "raw_1 = pd.read_csv(CSV_1, header=None)\n",
        "raw_2 = pd.read_csv(CSV_2, header=None)\n",
        "raw = pd.concat([raw_1, raw_2], axis=0)\n",
        "\n",
        "shuffled = raw.sample(frac=1, axis=0)\n",
        "del raw\n",
        "del raw_1\n",
        "del raw_2\n",
        "\n",
        "values = shuffled.values\n",
        "x = values[:, :-1]\n",
        "y = values[:, -1].astype(int)\n",
        "del values\n",
        "del shuffled"
      ],
      "execution_count": 3,
      "outputs": []
    },
    {
      "cell_type": "code",
      "metadata": {
        "id": "oMdSEiNb5xi1",
        "colab": {
          "base_uri": "https://localhost:8080/"
        },
        "outputId": "7cc80419-e754-43db-e6b7-5eec29ecaf9b"
      },
      "source": [
        "TEST_CLASS_SIZE = 100\n",
        "\n",
        "class_x = []\n",
        "class_count = []\n",
        "\n",
        "for label in range(5):\n",
        "    x_i = x[y == label]\n",
        "    \n",
        "    # Take the first TEST_CLASS_SIZE elements for the test set\n",
        "    if label == 0:\n",
        "        x_test = x_i[:TEST_CLASS_SIZE, :]\n",
        "        y_test = np.zeros((TEST_CLASS_SIZE)).astype(int)\n",
        "    else:\n",
        "        x_test = np.concatenate((x_test, x_i[:TEST_CLASS_SIZE, :]), axis=0)\n",
        "        y_test = np.concatenate((y_test, np.zeros((TEST_CLASS_SIZE)).astype(int) + label))\n",
        "        \n",
        "    # Use the remainder of the elements for the training set\n",
        "    x_i = x_i[TEST_CLASS_SIZE:, :]\n",
        "    class_x.append(x_i)\n",
        "    class_count.append(len(x_i))\n",
        "\n",
        "# Compute the multiple of class elements needed to balance the classes\n",
        "counts = (np.floor(max(class_count) / np.array(class_count))).astype(int)\n",
        "print('Multiples:', counts)\n",
        "\n",
        "# Append repeated values for under-represented classes\n",
        "for label in range(5):\n",
        "    count = counts[label]\n",
        "    if label == 0:\n",
        "        x_bal = class_x[label]\n",
        "        y_bal = np.zeros((class_count[label])).astype(int)\n",
        "        count -= 1\n",
        "\n",
        "    for j in range(count):\n",
        "        x_bal = np.concatenate((x_bal, class_x[label]), axis=0)\n",
        "        y_bal = np.concatenate((y_bal, np.zeros((class_count[label])).astype(int) + label))\n",
        "\n",
        "print('Training set shapes:', np.shape(x_bal), np.shape(y_bal))\n",
        "print('Test set shapes:', np.shape(x_test), np.shape(y_test))\n",
        "\n",
        "with open(TEST_SET, 'wb') as file:\n",
        "    pickle.dump({'x': x_test, 'y': y_test}, file)\n",
        "\n",
        "with open(TRAIN_SET, 'wb') as file:\n",
        "    pickle.dump({'x': x_bal, 'y': y_bal}, file)"
      ],
      "execution_count": 4,
      "outputs": [
        {
          "output_type": "stream",
          "name": "stdout",
          "text": [
            "Multiples: [                   1 -9223372036854775808 -9223372036854775808\n",
            " -9223372036854775808 -9223372036854775808]\n",
            "Training set shapes: (2576, 187) (2576,)\n",
            "Test set shapes: (100, 187) (500,)\n"
          ]
        },
        {
          "output_type": "stream",
          "name": "stderr",
          "text": [
            "/usr/local/lib/python3.7/dist-packages/ipykernel_launcher.py:23: RuntimeWarning: divide by zero encountered in true_divide\n"
          ]
        }
      ]
    },
    {
      "cell_type": "markdown",
      "metadata": {
        "id": "3mZPv6sr5xi2"
      },
      "source": [
        "## Next\n",
        "Run the `ClassifyECG.ipynb` notebook next..."
      ]
    },
    {
      "cell_type": "code",
      "metadata": {
        "id": "HioYTKqA5xi3"
      },
      "source": [
        ""
      ],
      "execution_count": 4,
      "outputs": []
    }
  ]
}